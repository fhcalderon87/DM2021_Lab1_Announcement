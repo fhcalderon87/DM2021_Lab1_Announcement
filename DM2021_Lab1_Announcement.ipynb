{
 "cells": [
  {
   "cell_type": "markdown",
   "metadata": {},
   "source": [
    "# [DM 2021] Lab 1 Environment settings\n",
    "\n",
    "Hi everybody,\n",
    "\n",
    "\n",
    "We will have our first lab session on Oct. 19th (Tuesday) 9:00 am on our Teams. Please be on time.\n",
    "\n",
    "We highly recommend you to attend the session with your personal laptop (that way you'll also have your environment set for the homework). These are some instructions for you to set up the environment:\n"
   ]
  },
  {
   "cell_type": "markdown",
   "metadata": {},
   "source": [
    "## 1.A. Install Python:\n",
    "\n",
    "Follow the installation instructions below:\n",
    "\n",
    "https://www.python.org/download/releases/3.0/\n",
    "\n",
    "## 1.B. Set up a Virtual Environment:\n",
    "\n",
    "If you use Python a lot for other projects, you might need to isolate different installation packages for compatibility purposes. If this is the first time you use Python or if you don't encounter any compatibility issues, you can skip this step.\n",
    "\n",
    "To have virtual environments, you need to install Anaconda or virtualenv. Here are the instructions for how to install and use each one:\n",
    "\n",
    "https://www.anaconda.com/distribution/\n",
    "\n",
    "https://virtualenv.pypa.io/en/latest/userguide/#\n",
    "\n",
    "## 2. Install libraries:\n",
    "\n",
    "We will use the following Python libraries for the lab: Jupyter Notebook, Scikit learn, Numpy, Pandas, NLTK, Matplotlib and Plotly.\n",
    "\n",
    "Once you have installed Python 3 (and optionally Anaconda), open a \"terminal\" windows (Linux/MacOS) or a \"Command Prompt\" window and type the following commands followed by \"Enter\":\n",
    "\n",
    "    pip3 install jupyter  \n",
    "    pip3 install numpy  \n",
    "    pip3 install pandas  \n",
    "    pip3 install matplotlib  \n",
    "    pip3 install plotly  \n",
    "    pip3 install nltk  \n",
    "    pip3 install sklearn \n",
    "    pip3 install seaborn\n",
    "    \n",
    "Open a \"Terminal\" window (Linux/MacOs) or a \"Command Prompt\" window (windows) and type the following line (followed by Enter):\n",
    "    python\n",
    "    \n",
    "Then type the following lines (followed by Enter):\n",
    "    import nltk\n",
    "    nltk.download('punkt')\n",
    "\n",
    "__Note__: you might need to add \"Sudo\" at the beginning if you use Linux, and you will be asked to input your password.\n",
    " "
   ]
  },
  {
   "cell_type": "markdown",
   "metadata": {},
   "source": [
    "![pic2](Pics/pic2ann1.png)"
   ]
  },
  {
   "cell_type": "markdown",
   "metadata": {},
   "source": [
    "## 3. Run Jupyter Python and check your environment:\n",
    "\n",
    "Open a new Jupyter notebook server. In order to do this, open a \"terminal\" windows (Linux/MacOS) or a \"Command Prompt\" window and type the following commands followed by \"Enter\":\n",
    "\n",
    "    jupyter notebook\n",
    "\n",
    "Just like the image below:"
   ]
  },
  {
   "cell_type": "markdown",
   "metadata": {},
   "source": [
    "![example3](Pics/pic3ann1.png)"
   ]
  },
  {
   "cell_type": "markdown",
   "metadata": {},
   "source": [
    "A window like the one below should open in your browser. Please go to the \"New\" button on the top right cornerand select \"Python 3\"."
   ]
  },
  {
   "cell_type": "markdown",
   "metadata": {},
   "source": [
    "![example4](Pics/pic4ann1.png)"
   ]
  },
  {
   "cell_type": "markdown",
   "metadata": {},
   "source": [
    "This will open a new notebook. You will be able to run \"Cells\" of code and get the outputs printed below, as well as cells of text. If you want to learn more on how to use a notebook, read the documentation below:\n",
    "\n",
    "https://jupyter-notebook.readthedocs.io/en/stable/examples/Notebook/Running%20Code.html\n",
    "\n",
    "https://jupyter-notebook.readthedocs.io/en/stable/examples/Notebook/Notebook%20Basics.html\n",
    "\n",
    "Once you opened a new notebook, please paste the script below in a cell and press the \"Run\" Button (or the \"Shift\" + \"Enter\" keys). Make sure you have no errors!"
   ]
  },
  {
   "cell_type": "code",
   "execution_count": null,
   "metadata": {},
   "outputs": [],
   "source": [
    "# import library\n",
    "import pandas as pd\n",
    "import numpy as np\n",
    "import nltk\n",
    "from sklearn.datasets import fetch_20newsgroups\n",
    "from sklearn.feature_extraction.text import CountVectorizer\n",
    "import plotly as py\n",
    "import math\n",
    "%matplotlib inline\n",
    "\n",
    "# prepare dataset\n",
    "categories = ['alt.atheism', 'soc.religion.christian', 'comp.graphics', 'sci.med']\n",
    "twenty_train = fetch_20newsgroups(subset='train', categories=categories, shuffle=True, random_state=42)"
   ]
  },
  {
   "cell_type": "markdown",
   "metadata": {},
   "source": [
    "It should look like this:"
   ]
  },
  {
   "cell_type": "markdown",
   "metadata": {},
   "source": [
    "![example6](Pics/pic6ann1.png)"
   ]
  },
  {
   "cell_type": "markdown",
   "metadata": {},
   "source": [
    "## 4. Create a GIT account:\n",
    "\n",
    "GIT is a version control system that tracks changes to code. We won't be using it much during the tutorial, but you will have to hand out your code through this platform. To set up Git, you'll need to:\n",
    "\n",
    "1. Sign up on Github:\n",
    "    \n",
    "    https://github.com/  \n",
    "    \n",
    "\n",
    "2. Install Git. To install git in windows, you'll need to download it from here:\n",
    "\n",
    "    https://gitforwindows.org/\n",
    "\n",
    "    In linux/MacOS, open a \"Terminal\" window and run the following command:\n",
    "    \n",
    "        sudo apt install git-all\n",
    "   \n",
    "3. Add your \"credentials\" to git. Open a \"Terminal\" window and run the following commands(please use the same email you used to register for your Git account):\n",
    "    \n",
    "        git config --global user.name \"YOUR_USERNAME\"\n",
    "        git config --global user.email \"your_email@gmail.com\"\n",
    "\n",
    "It should look like this:"
   ]
  },
  {
   "cell_type": "markdown",
   "metadata": {},
   "source": [
    "![example8](Pics/pic8ann1.png)"
   ]
  },
  {
   "cell_type": "markdown",
   "metadata": {},
   "source": [
    "__Note__: If you're not comfortable with the command line, you may also download the Sourcetree application:\n",
    "https://desktop.github.com/\n",
    "Here's a cheatsheet of commands(for those who won't use the command line and not the app):"
   ]
  },
  {
   "cell_type": "markdown",
   "metadata": {},
   "source": [
    "![example7](Pics/pic7ann1.png)"
   ]
  },
  {
   "cell_type": "markdown",
   "metadata": {},
   "source": [
    "\n",
    "\n",
    "## Note: \n",
    "\n",
    "If you have issues to install/set up Python 3+ environment in your computer, please try using Kaggle kernels. In order to use a Kaggle Kernel:\n",
    "\n",
    "1. You need to create an account on kaggle (https://www.kaggle.com/).\n",
    "2. Go to the Kernels page (https://www.kaggle.com/kernels), click \"New Kernel\" and choose \"Notebook\".\n",
    "3. Open the Internet connected in the Settings (right side).\n",
    "4. In order to check everything is working, try our Test script code (section 3) in the Notebook and run the code in a block by pressing shift + enter.\n",
    "\n",
    "If all the settings are correct, it will look like this:\n",
    "\n",
    "Please Run the script above in step 3 \n",
    "Please make sure the computer you will use during the lab session can work before the lab! "
   ]
  },
  {
   "cell_type": "markdown",
   "metadata": {},
   "source": [
    "![example5](Pics/pic5ann1.png)"
   ]
  },
  {
   "cell_type": "markdown",
   "metadata": {},
   "source": [
    "## Important Note:  If you're having installation issues with all of this, please ask your classmates or TAs for help well ahead of the lab session.\n",
    "\n",
    "Good luck and see you on Tuesday!\n",
    "\n",
    "Best regards,   \n",
    "The TAs"
   ]
  },
  {
   "cell_type": "code",
   "execution_count": null,
   "metadata": {},
   "outputs": [],
   "source": []
  }
 ],
 "metadata": {
  "kernelspec": {
   "display_name": "Python 3",
   "language": "python",
   "name": "python3"
  },
  "language_info": {
   "codemirror_mode": {
    "name": "ipython",
    "version": 3
   },
   "file_extension": ".py",
   "mimetype": "text/x-python",
   "name": "python",
   "nbconvert_exporter": "python",
   "pygments_lexer": "ipython3",
   "version": "3.6.12"
  }
 },
 "nbformat": 4,
 "nbformat_minor": 2
}
